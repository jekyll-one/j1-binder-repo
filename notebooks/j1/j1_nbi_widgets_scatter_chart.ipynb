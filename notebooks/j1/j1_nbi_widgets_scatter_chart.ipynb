{
 "cells": [
  {
   "cell_type": "code",
   "execution_count": 1,
   "metadata": {},
   "outputs": [],
   "source": [
    "import nbinteract as nbi\n",
    "import numpy as np"
   ]
  },
  {
   "cell_type": "code",
   "execution_count": 2,
   "metadata": {},
   "outputs": [
    {
     "data": {
      "application/vnd.jupyter.widget-view+json": {
       "model_id": "5c4c72b8a96442369f072e30768c3ba7",
       "version_major": 2,
       "version_minor": 0
      },
      "text/plain": [
       "VBox(children=(interactive(children=(IntSlider(value=105, description='n', max=200, min=10), Output()), _dom_c…"
      ]
     },
     "metadata": {},
     "output_type": "display_data"
    }
   ],
   "source": [
    "def x_fn(n):\n",
    "    return np.random.choice(100, n)\n",
    "    \n",
    "def y_fn(xs):\n",
    "    return np.random.choice(100, len(xs))\n",
    "\n",
    "\n",
    "options = {\n",
    "    'title': 'Scatter Plot',\n",
    "    'marker': 'circle',\n",
    "    'animation_duration': 1000,    \n",
    "    'xlabel': 'x-values',\n",
    "    'ylabel': 'y-values',\n",
    "    'xlim': (0, 100),\n",
    "    'ylim': (0, 100)\n",
    "}\n",
    "\n",
    "layouts = {\n",
    "    'plot_height': '480px',\n",
    "    'plot_width': '800px',\n",
    "}\n",
    "\n",
    "scatter_chart = nbi.scatter(\n",
    "    x_fn,\n",
    "    y_fn,\n",
    "    n=(10,200),\n",
    "    options=options,\n",
    "    layouts=layouts\n",
    ")\n",
    "\n",
    "scatter_chart"
   ]
  }
 ],
 "metadata": {
  "kernelspec": {
   "display_name": "Python 3 (ipykernel)",
   "language": "python",
   "name": "python3"
  },
  "language_info": {
   "codemirror_mode": {
    "name": "ipython",
    "version": 3
   },
   "file_extension": ".py",
   "mimetype": "text/x-python",
   "name": "python",
   "nbconvert_exporter": "python",
   "pygments_lexer": "ipython3",
   "version": "3.7.9"
  }
 },
 "nbformat": 4,
 "nbformat_minor": 4
}
