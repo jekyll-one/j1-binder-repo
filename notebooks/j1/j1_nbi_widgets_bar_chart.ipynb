{
 "cells": [
  {
   "cell_type": "code",
   "execution_count": 1,
   "metadata": {},
   "outputs": [],
   "source": [
    "import nbinteract as nbi\n",
    "import numpy as np"
   ]
  },
  {
   "cell_type": "code",
   "execution_count": 2,
   "metadata": {},
   "outputs": [
    {
     "data": {
      "application/vnd.jupyter.widget-view+json": {
       "model_id": "f558a534305a4e2a8204f197bb1e012c",
       "version_major": 2,
       "version_minor": 0
      },
      "text/plain": [
       "VBox(children=(interactive(children=(IntSlider(value=6, description='n', max=10, min=3), IntSlider(value=5, de…"
      ]
     },
     "metadata": {},
     "output_type": "display_data"
    }
   ],
   "source": [
    "def x_fn(n): \n",
    "    return np.arange(n)\n",
    "\n",
    "def y_fn(xs, offset):\n",
    "    return xs + offset\n",
    "\n",
    "\n",
    "options = {\n",
    "    'title': 'Barchart',\n",
    "    'xlabel': 'Number of bars (n)',\n",
    "    'ylabel': 'Offset  value',\n",
    "    'animation_duration': 500,\n",
    "    'aspect_ratio': 1.778,\n",
    "    'ylim': (0, 20)\n",
    "}\n",
    "\n",
    "layouts = {\n",
    "    'plot_height': '480px',\n",
    "    'plot_width': '800px',\n",
    "}\n",
    "\n",
    "bar_chart = nbi.bar(\n",
    "    x_fn,\n",
    "    y_fn,\n",
    "    n=(3, 10),\n",
    "    offset=(1, 10),\n",
    "    options=options,\n",
    "    layouts=layouts\n",
    ")\n",
    "\n",
    "bar_chart"
   ]
  }
 ],
 "metadata": {
  "kernelspec": {
   "display_name": "Python 3 (ipykernel)",
   "language": "python",
   "name": "python3"
  },
  "language_info": {
   "codemirror_mode": {
    "name": "ipython",
    "version": 3
   },
   "file_extension": ".py",
   "mimetype": "text/x-python",
   "name": "python",
   "nbconvert_exporter": "python",
   "pygments_lexer": "ipython3",
   "version": "3.7.9"
  }
 },
 "nbformat": 4,
 "nbformat_minor": 4
}
