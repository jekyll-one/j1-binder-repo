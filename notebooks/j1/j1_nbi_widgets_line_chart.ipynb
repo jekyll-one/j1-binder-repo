{
 "cells": [
  {
   "cell_type": "code",
   "execution_count": 1,
   "metadata": {},
   "outputs": [],
   "source": [
    "import nbinteract as nbi\n",
    "import numpy as np\n",
    "from numpy import arange"
   ]
  },
  {
   "cell_type": "code",
   "execution_count": 6,
   "metadata": {},
   "outputs": [
    {
     "data": {
      "application/vnd.jupyter.widget-view+json": {
       "model_id": "db716f70891743beb8069467f58ee12d",
       "version_major": 2,
       "version_minor": 0
      },
      "text/plain": [
       "VBox(children=(interactive(children=(IntSlider(value=30, description='max', max=50, min=10), IntSlider(value=5…"
      ]
     },
     "metadata": {},
     "output_type": "display_data"
    }
   ],
   "source": [
    "def x_fn(max):\n",
    "    return np.arange(0, max + 1)\n",
    "\n",
    "def y_fn(xs, sd):\n",
    "    return xs + np.random.normal(0, scale=sd, size=len(xs))\n",
    "\n",
    "\n",
    "options = {\n",
    "    'title': 'Line chart',\n",
    "    'xlabel': 'x-values (max)',\n",
    "    'ylabel': 'y-values (sd)',    \n",
    "    'xlim': (0, 50),\n",
    "    'ylim': (-20, 70),\n",
    "    'animation_duration': 500\n",
    "}\n",
    "\n",
    "layouts = {\n",
    "    'plot_height': '480px',\n",
    "    'plot_width': '800px',\n",
    "}\n",
    "\n",
    "line_chart = nbi.line(\n",
    "    x_fn,\n",
    "    y_fn,\n",
    "    max=(10, 50),\n",
    "    sd=(0, 10),\n",
    "    options=options,\n",
    "    layouts=layouts\n",
    ")\n",
    "\n",
    "line_chart"
   ]
  }
 ],
 "metadata": {
  "kernelspec": {
   "display_name": "Python 3 (ipykernel)",
   "language": "python",
   "name": "python3"
  },
  "language_info": {
   "codemirror_mode": {
    "name": "ipython",
    "version": 3
   },
   "file_extension": ".py",
   "mimetype": "text/x-python",
   "name": "python",
   "nbconvert_exporter": "python",
   "pygments_lexer": "ipython3",
   "version": "3.7.9"
  }
 },
 "nbformat": 4,
 "nbformat_minor": 4
}
