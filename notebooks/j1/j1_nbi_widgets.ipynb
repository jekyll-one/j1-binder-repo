{
 "cells": [
  {
   "cell_type": "markdown",
   "metadata": {},
   "source": [
    "## Widgets from nbinteract\n",
    "\n",
    "The library *nbinteract* comes with a set of functions that produce Javascript-based plots designed for interaction. The package combines the *ipywidgets* library and the *bqplot*\n",
    "plotting library to implement function-driven interfaces to interactive plotting.\n",
    "\n",
    "The nbinteract plotting methods use **ipywidgets** to generate and display widgets, inferring the widget type as needed. When a user interacts with a widget, a Python callback updates the visualization **without** a complete rerender. This noticeably lowers visualization update time compared to using ipywidgets alone to render static images."
   ]
  },
  {
   "cell_type": "code",
   "execution_count": 1,
   "metadata": {},
   "outputs": [],
   "source": [
    "import matplotlib.pyplot as plt\n",
    "import ipywidgets as widgets\n",
    "from ipywidgets import interact\n",
    "import nbinteract as nbi\n",
    "import numpy as np\n",
    "from numpy import arange,sin,pi"
   ]
  },
  {
   "cell_type": "markdown",
   "metadata": {},
   "source": [
    "### `nbinteract.hist`\n",
    "\n",
    "The  widget hist generates a histogram that allows interaction with the parameters for the response function. The widget takes in a single response function. The response function returns the array of numerical values that will be shown in the histogram. The hist function allows interaction with the response function's parameters by specifying them as keyword arguments in the same format as ipywidgets.interact. Any argument that can be used for ipywidgets.interact can be used for hist.\n"
   ]
  },
  {
   "cell_type": "code",
   "execution_count": 2,
   "metadata": {},
   "outputs": [
    {
     "data": {
      "application/vnd.jupyter.widget-view+json": {
       "model_id": "f82abeeec2b047229a5ae793b99daf3b",
       "version_major": 2,
       "version_minor": 0
      },
      "text/plain": [
       "VBox(children=(interactive(children=(IntSlider(value=5, description='mean', max=10), FloatSlider(value=1.0, de…"
      ]
     },
     "metadata": {},
     "output_type": "display_data"
    }
   ],
   "source": [
    "def hist_response_function(mean, sd, size=1000):\n",
    "    '''\n",
    "    Returns 1000 values picked at random from the normal\n",
    "    distribution with the mean and SD given.\n",
    "    '''\n",
    "    return np.random.normal(loc=mean, scale=sd, size=1000)\n",
    "\n",
    "nbi.hist(hist_response_function, mean=(0, 10), sd=(0.2, 2.0, 0.2))"
   ]
  },
  {
   "cell_type": "markdown",
   "metadata": {},
   "source": [
    "### `nbinteract.bar`\n",
    "\n",
    "The widgetr bar generates an bar plot that allows interaction with the parameters for the response functions.\n",
    "\n",
    "The first two arguments of bar are response functions that return the x and y-axis data arrays, respectively. Either argument can be arrays themselves. Arguments for the response functions must be passed in as keyword arguments to bar in the format expected by interact. The response function for the y-axis data will be called with the x-axis data as its first argument.\n",
    "\n",
    "For example, in the bar plot below categories generates the categories to plot on the x-axis and heights generates the y-axis heights. The heights function uses the parameter xs which is the array of x-axis data points."
   ]
  },
  {
   "cell_type": "code",
   "execution_count": 3,
   "metadata": {},
   "outputs": [
    {
     "data": {
      "application/vnd.jupyter.widget-view+json": {
       "model_id": "0f91cd380d824f51813feafbd7d03dcc",
       "version_major": 2,
       "version_minor": 0
      },
      "text/plain": [
       "VBox(children=(interactive(children=(IntSlider(value=6, description='n', max=10, min=3), IntSlider(value=5, de…"
      ]
     },
     "metadata": {},
     "output_type": "display_data"
    }
   ],
   "source": [
    "def categories(n): \n",
    "    return np.arange(n)\n",
    "\n",
    "def heights(xs, offset):\n",
    "    return xs + offset\n",
    "\n",
    "opts = {\n",
    "    'ylim': (0, 20),\n",
    "}\n",
    "\n",
    "nbi.bar(categories, heights, n=(3, 10), offset=(1, 10), options=opts)"
   ]
  },
  {
   "cell_type": "markdown",
   "metadata": {},
   "source": [
    "### nbinteract.scatter_drag\n",
    "\n",
    "The widget scatter_drag generates a scatter plot that allows interaction through clicking and dragging the points on the graph.\n",
    "\n",
    "scatter_drag takes in two lists/arrays consisting of the x-coordinates and y-coordinates of the points to plot. It generates an interactive scatter plot where the points can be dragged by the user and a best fit line is updated automatically according to the placement of the points.\n",
    "\n",
    "scatter_drag does not allow response functions as inputs."
   ]
  },
  {
   "cell_type": "code",
   "execution_count": 4,
   "metadata": {},
   "outputs": [
    {
     "data": {
      "application/vnd.jupyter.widget-view+json": {
       "model_id": "166fa4e5e06348548cadc9e9e16f730a",
       "version_major": 2,
       "version_minor": 0
      },
      "text/plain": [
       "VBox(children=(Label(value='y = 0.99x + 0.59'), Figure(animation_duration=250, axes=[Axis(scale=LinearScale(ma…"
      ]
     },
     "metadata": {},
     "output_type": "display_data"
    }
   ],
   "source": [
    "x_coords = np.arange(10)\n",
    "y_coords = np.arange(10) + np.random.rand(10)\n",
    "\n",
    "opts = {'xlim': (0, 9), 'ylim': (0, 11), 'animation_duration': 250}\n",
    "\n",
    "nbi.scatter_drag(x_coords, y_coords, options=opts)"
   ]
  },
  {
   "cell_type": "markdown",
   "metadata": {},
   "source": [
    "### `nbinteract.scatter`\n",
    "\n",
    "The scatter widgetr generates a scatter plot that allows interaction with the parameters to the response functions. This is different from scatter_drag which facilitates interaction using click and drag actions.\n",
    "\n",
    "The first two arguments of scatter are response functions that return the x and y-axis coordinates, respectively. Either argument can be arrays themselves. Arguments for the response functions must be passed in as keyword arguments to scatter in the format expected by interact. The response function for the y-coordinates will be called with the x-coordinates as its first argument."
   ]
  },
  {
   "cell_type": "code",
   "execution_count": 5,
   "metadata": {},
   "outputs": [
    {
     "data": {
      "application/vnd.jupyter.widget-view+json": {
       "model_id": "8cae31debe7c43f3870c08e21e13d969",
       "version_major": 2,
       "version_minor": 0
      },
      "text/plain": [
       "VBox(children=(interactive(children=(IntSlider(value=105, description='n', max=200, min=10), Output()), _dom_c…"
      ]
     },
     "metadata": {},
     "output_type": "display_data"
    }
   ],
   "source": [
    "def x_values(n): return np.random.choice(100, n)\n",
    "def y_values(xs): return np.random.choice(100, len(xs))\n",
    "\n",
    "nbi.scatter(x_values, y_values, n=(10,200))"
   ]
  },
  {
   "cell_type": "markdown",
   "metadata": {},
   "source": [
    "### `nbinteract.line`\n",
    "\n",
    "The line widget generates a line plot that allows interaction with the parameters to the response functions.\n",
    "\n",
    "The first two arguments of line are response functions that return the x and y-axis coordinates, respectively. Either argument can be arrays themselves. Arguments for the response functions must be passed in as keyword arguments to line in the format expected by interact. The response function for the y-coordinates will be called with the x-coordinates as its first argument."
   ]
  },
  {
   "cell_type": "code",
   "execution_count": 6,
   "metadata": {},
   "outputs": [
    {
     "data": {
      "application/vnd.jupyter.widget-view+json": {
       "model_id": "6802c879b8524416a00b68bee268c733",
       "version_major": 2,
       "version_minor": 0
      },
      "text/plain": [
       "VBox(children=(interactive(children=(IntSlider(value=30, description='max', max=50, min=10), IntSlider(value=5…"
      ]
     },
     "metadata": {},
     "output_type": "display_data"
    }
   ],
   "source": [
    "def x_values(max): return np.arange(0, max)\n",
    "def y_values(xs, sd):\n",
    "    return xs + np.random.normal(0, scale=sd, size=len(xs))\n",
    "\n",
    "opts = {\n",
    "    'xlim': (0, 50),\n",
    "    'ylim': (0, 55),\n",
    "    'animation_duration': 250,\n",
    "}\n",
    "\n",
    "nbi.line(x_values, y_values, max=(10, 50), sd=(1, 10), options=opts)"
   ]
  },
  {
   "cell_type": "markdown",
   "metadata": {},
   "source": [
    "## Interactive Questions from nbinteract\n",
    "nbinteract also provides built-in methods to easily create multiple choice and short answer questions.\n"
   ]
  },
  {
   "cell_type": "markdown",
   "metadata": {},
   "source": [
    "### nbinteract.multiple_choice\n",
    "\n",
    "`nbinteract.multiple_choice` takes a question, a list of possible answer choices, and the correct answer. Clicking the buttons shows whether the choice was correct."
   ]
  },
  {
   "cell_type": "code",
   "execution_count": 7,
   "metadata": {},
   "outputs": [
    {
     "data": {
      "application/vnd.jupyter.widget-view+json": {
       "model_id": "0afaad0c30be4eacb0d8ff6b88898ff9",
       "version_major": 2,
       "version_minor": 0
      },
      "text/plain": [
       "VBox(children=(HTML(value='<p style=\"line-height:18px;\">What is 10 + 2 * 5?</p>'), HBox(children=(Button(layou…"
      ]
     },
     "metadata": {},
     "output_type": "display_data"
    }
   ],
   "source": [
    "nbi.multiple_choice(question=\"What is 10 + 2 * 5?\",\n",
    "                    choices=['12', '60', '20'],\n",
    "                    answers=2)"
   ]
  },
  {
   "cell_type": "code",
   "execution_count": 8,
   "metadata": {
    "scrolled": true
   },
   "outputs": [
    {
     "data": {
      "application/vnd.jupyter.widget-view+json": {
       "model_id": "33fd9240f51847f1a4a8cb7fd2b2bfb0",
       "version_major": 2,
       "version_minor": 0
      },
      "text/plain": [
       "VBox(children=(HTML(value='<p style=\"line-height:18px;\">Select all prime numbers.</p>'), HBox(children=(Button…"
      ]
     },
     "metadata": {},
     "output_type": "display_data"
    }
   ],
   "source": [
    "nbi.multiple_choice(question=\"Select all prime numbers.\",\n",
    "                    choices=['12', '3', '31'],\n",
    "                    answers=[1, 2])"
   ]
  },
  {
   "cell_type": "markdown",
   "metadata": {},
   "source": [
    "### nbinteract.short_answer\n",
    "\n",
    "`nbinteract.short_answer` takes a question and an answer.\n",
    "\n",
    "The answer can either be a string, a list of strings, or a function that returns `True` when called with the user's input. If the function errors, an error message will be displayed."
   ]
  },
  {
   "cell_type": "code",
   "execution_count": 9,
   "metadata": {},
   "outputs": [
    {
     "data": {
      "application/vnd.jupyter.widget-view+json": {
       "model_id": "9c22d505ce2d4ea2b83eeeaa3c55cb30",
       "version_major": 2,
       "version_minor": 0
      },
      "text/plain": [
       "VBox(children=(HTML(value='<p style=\"line-height:18px;\">What is 1+1?</p>'), HBox(children=(Text(value='', plac…"
      ]
     },
     "metadata": {},
     "output_type": "display_data"
    }
   ],
   "source": [
    "nbi.short_answer('What is 1+1?', answers='2', explanation='1+1 is 2')"
   ]
  },
  {
   "cell_type": "code",
   "execution_count": 10,
   "metadata": {},
   "outputs": [
    {
     "data": {
      "application/vnd.jupyter.widget-view+json": {
       "model_id": "c730529b0e7e4124885df35bf923ba7c",
       "version_major": 2,
       "version_minor": 0
      },
      "text/plain": [
       "VBox(children=(HTML(value='<p style=\"line-height:18px;\">Enter the first name of a member of the Beatles.</p>')…"
      ]
     },
     "metadata": {},
     "output_type": "display_data"
    }
   ],
   "source": [
    "nbi.short_answer('Enter the first name of a member of the Beatles.',\n",
    "                 ['John', 'Paul', 'George', 'Ringo'])"
   ]
  },
  {
   "cell_type": "code",
   "execution_count": 11,
   "metadata": {},
   "outputs": [
    {
     "data": {
      "application/vnd.jupyter.widget-view+json": {
       "model_id": "40acab24b8b241c59d1090cc258c48ce",
       "version_major": 2,
       "version_minor": 0
      },
      "text/plain": [
       "VBox(children=(HTML(value='<p style=\"line-height:18px;\">Enter an even number.</p>'), HBox(children=(Text(value…"
      ]
     },
     "metadata": {},
     "output_type": "display_data"
    }
   ],
   "source": [
    "nbi.short_answer('Enter an even number.', lambda x: int(x) % 2 == 0)"
   ]
  }
 ],
 "metadata": {
  "kernelspec": {
   "display_name": "Python 3 (ipykernel)",
   "language": "python",
   "name": "python3"
  },
  "language_info": {
   "codemirror_mode": {
    "name": "ipython",
    "version": 3
   },
   "file_extension": ".py",
   "mimetype": "text/x-python",
   "name": "python",
   "nbconvert_exporter": "python",
   "pygments_lexer": "ipython3",
   "version": "3.7.9"
  }
 },
 "nbformat": 4,
 "nbformat_minor": 4
}
